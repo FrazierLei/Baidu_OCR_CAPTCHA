{
 "cells": [
  {
   "cell_type": "code",
   "execution_count": null,
   "metadata": {},
   "outputs": [],
   "source": [
    "# ！pip install git+https://github.com/Baidu-AIP/python-sdk.git@master"
   ]
  },
  {
   "cell_type": "code",
   "execution_count": 1,
   "metadata": {},
   "outputs": [],
   "source": [
    "from aip import AipOcr\n",
    "\n",
    "class Image2Text:\n",
    "    def __init__(self):\n",
    "        \"\"\"\n",
    "        初始化检测器对象\n",
    "        \"\"\"\n",
    "        self.APP_ID = ''\n",
    "        self.API_KEY = ''\n",
    "        self.SECRET_KEY = ''\n",
    "        self.aipOcr = AipOcr(self.APP_ID, self.API_KEY, self.SECRET_KEY)        \n",
    "\n",
    "    def detect(self, file_path):\n",
    "        with open(file_path, 'rb') as f:\n",
    "            r = self.aipOcr.basicGeneral(f.read())\n",
    "        try:\n",
    "            return r['words_result'][0]['words']\t\n",
    "        except:\n",
    "            return r  "
   ]
  },
  {
   "cell_type": "code",
   "execution_count": 2,
   "metadata": {},
   "outputs": [],
   "source": [
    "detector = Image2Text()"
   ]
  },
  {
   "cell_type": "code",
   "execution_count": 3,
   "metadata": {},
   "outputs": [],
   "source": [
    "import requests\n",
    "from PIL import Image\n",
    "\n",
    "def get_zju_captcha():\n",
    "    img = requests.get('http://jwbinfosys.zju.edu.cn/CheckCode.aspx').content\n",
    "    with open('./zju_captcha.jpg','wb') as f:\n",
    "        f.write(img)\n",
    "    img = Image.open('./zju_captcha.png')\n",
    "    return img"
   ]
  },
  {
   "cell_type": "code",
   "execution_count": null,
   "metadata": {},
   "outputs": [],
   "source": [
    "# for i in range(100):\n",
    "#     img = requests.get('http://jwbinfosys.zju.edu.cn/CheckCode.aspx').content\n",
    "#     with open('./zju_captcha/' + str(i) + '.jpg', 'wb') as f:\n",
    "#         f.write(img)"
   ]
  },
  {
   "cell_type": "code",
   "execution_count": 4,
   "metadata": {},
   "outputs": [
    {
     "name": "stdout",
     "output_type": "stream",
     "text": [
      "w4rn warn\n",
      "sx8i sxb\n",
      "wr1h wrth\n",
      "meg7 megt\n",
      "oqwg 0qwg\n",
      "7dnn tdnn\n",
      "85eh 8eh\n",
      "ltkv itky\n",
      "inug nug\n",
      "di82 d82\n",
      "kvin kyin\n",
      "56ii 56l\n",
      "xg1s xg1is\n",
      "i4ru 4ru\n",
      "p1is p1s\n",
      "r5ip r5p\n",
      "7tk2 ttk2\n",
      "temp ttk2\n",
      "w56e v56e\n",
      "7fe6 tfe6\n",
      "5src ssrc\n",
      "f5vw few\n",
      "se5w sesw\n",
      "i11c 11c\n",
      "vd1v vdiv\n",
      "7yhr tyhr\n",
      "k2u3 k2us\n",
      "2njy 2n\n",
      "k7rs ktrs\n",
      "71\n"
     ]
    }
   ],
   "source": [
    "import glob\n",
    "import time\n",
    "\n",
    "files = glob.glob('./zju_captcha/*')\n",
    "\n",
    "cnt = 0\n",
    "for file in files:\n",
    "    label = file.split('/')[-1].split('.')[0]\n",
    "    img = Image.open(file)\n",
    "    img = img.convert('L')\n",
    "    \n",
    "    # 设置阈值\n",
    "    threshold = 100\n",
    "    table = []\n",
    "    for i in range(256):\n",
    "        if i < threshold:\n",
    "            table.append(0)\n",
    "        else:\n",
    "            table.append(1)\n",
    "\n",
    "    img = img.point(table, '1')\n",
    "    img.save('./zju_captcha/temp.jpg')\n",
    "    text = detector.detect('./zju_captcha/temp.jpg')\n",
    "    \n",
    "    # 判断是否识别成功\n",
    "    if isinstance(text, str):\n",
    "        text = text.lower().replace('o', '0')\n",
    "        if label == text:\n",
    "            cnt += 1\n",
    "        else:\n",
    "            print(label, text)\n",
    "    time.sleep(1)\n",
    "        \n",
    "print(cnt)"
   ]
  },
  {
   "cell_type": "code",
   "execution_count": null,
   "metadata": {},
   "outputs": [],
   "source": []
  }
 ],
 "metadata": {
  "kernelspec": {
   "display_name": "Python 3",
   "language": "python",
   "name": "python3"
  },
  "language_info": {
   "codemirror_mode": {
    "name": "ipython",
    "version": 3
   },
   "file_extension": ".py",
   "mimetype": "text/x-python",
   "name": "python",
   "nbconvert_exporter": "python",
   "pygments_lexer": "ipython3",
   "version": "3.8.3"
  }
 },
 "nbformat": 4,
 "nbformat_minor": 4
}
